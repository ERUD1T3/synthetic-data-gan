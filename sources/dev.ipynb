{
 "cells": [
  {
   "cell_type": "markdown",
   "metadata": {},
   "source": [
    "## CSE 5320 Neural Networks Project 1\n",
    "### Josias Moukpe\n",
    "### Report (Embedded Code)\n"
   ]
  },
  {
   "cell_type": "code",
   "execution_count": null,
   "metadata": {},
   "outputs": [],
   "source": [
    "# imports\n"
   ]
  }
 ],
 "metadata": {
  "kernelspec": {
   "display_name": "Python 3.9.12 ('tf-gpu')",
   "language": "python",
   "name": "python3"
  },
  "language_info": {
   "name": "python",
   "version": "3.9.12"
  },
  "orig_nbformat": 4,
  "vscode": {
   "interpreter": {
    "hash": "248d42be7c44ee8282c278444327b72294a65bb1209edb41c57e3d849342db5a"
   }
  }
 },
 "nbformat": 4,
 "nbformat_minor": 2
}
